{
 "cells": [
  {
   "cell_type": "code",
   "execution_count": 2,
   "metadata": {},
   "outputs": [],
   "source": [
    "#Import scikit\n",
    "#From scikit import svm, randomforest, crossvalidation\n",
    "#Import xarray\n",
    "#import numpy\n",
    "\n",
    "import os\n",
    "import sys\n",
    "import csv\n",
    "import numpy as np\n",
    "from sklearn import svm\n",
    "from sklearn.metrics import confusion_matrix as cmat\n",
    "import collections\n",
    "from sklearn.ensemble import RandomForestClassifier\n",
    "from sklearn.metrics import classification_report as report  \n",
    "from sklearn.model_selection import *\n",
    "from sklearn.feature_selection import *\n",
    "import matplotlib.pyplot as plt\n",
    "import time\n",
    "import random\n",
    "import numpy\n",
    "from datetime import datetime\n",
    "import pandas as pd\n",
    "\n"
   ]
  },
  {
   "cell_type": "code",
   "execution_count": null,
   "metadata": {},
   "outputs": [],
   "source": [
    "#https://stackoverflow.com/questions/553303/generate-a-random-date-between-two-other-dates\n",
    "def strTimeProp(start, end, format, prop):\n",
    "    \"\"\"Get a time at a proportion of a range of two formatted times.\n",
    "\n",
    "    start and end should be strings specifying times formated in the\n",
    "    given format (strftime-style), giving an interval [start, end].\n",
    "    prop specifies how a proportion of the interval to be taken after\n",
    "    start.  The returned time will be in the specified format.\n",
    "    \"\"\"\n",
    "\n",
    "    stime = time.mktime(time.strptime(start, format))\n",
    "    etime = time.mktime(time.strptime(end, format))\n",
    "\n",
    "    ptime = stime + prop * (etime - stime)\n",
    "\n",
    "    return time.strftime(format, time.localtime(ptime))\n",
    "\n",
    "\n",
    "def randomDate(start, end, prop):\n",
    "    return strTimeProp(start, end, '%m/%d/%Y %I:%M', prop)"
   ]
  },
  {
   "cell_type": "code",
   "execution_count": null,
   "metadata": {},
   "outputs": [],
   "source": [
    "randomDate(\"03/17/2015 1:30\", \"11/23/2015 4:50\", random.random()) #03/17/2015\t11/22/2015"
   ]
  },
  {
   "cell_type": "code",
   "execution_count": 3,
   "metadata": {},
   "outputs": [],
   "source": [
    "good_data = pd.read_csv(\"tsoc.csv\", parse_dates=[0])\n",
    "good_data"
   ]
  },
  {
   "cell_type": "code",
   "execution_count": null,
   "metadata": {},
   "outputs": [],
   "source": [
    "#Load data\n",
    "fieldnames = ['depth','date','temp','oxygen','Salinity','Chl']\n",
    "#bad_data = csv.DictWriter(open('tsoc-bad.csv','wb'), fieldnames=fieldnames)\n",
    "#good_data = csv.DictReader(open('tsoc.csv','rt'))\n",
    "#good_data = csv.reader(open('tsoc.csv'), delimiter=',')\n",
    "#totalrows = len(list(good_data))\n",
    "\n",
    "good_data = genfromtxt('tsoc.csv', delimiter=',',\n",
    "                       converters={1: lambda x: datetime.strptime(x.decode('utf-8'), '%m/%d/%y %I:%M'),\n",
    "                                                                  3: lambda s: float(s or 0)},\n",
    "                      skip_header=1)\n",
    "good_data = numpy.nan_to_num(good_data)\n",
    "#good_data = good_data[~numpy.all(good_data == 0,)]\n",
    "\n"
   ]
  },
  {
   "cell_type": "code",
   "execution_count": null,
   "metadata": {},
   "outputs": [],
   "source": [
    "for row in good_data:\n",
    "    for fieldnames in row:\n",
    "        if row[fieldnames] is 'nan' :\n",
    "            row[fieldnames]= 0.0\n",
    "    "
   ]
  },
  {
   "cell_type": "code",
   "execution_count": null,
   "metadata": {},
   "outputs": [],
   "source": [
    "for row in good_data:\n",
    "    #Generate pseudo-random state:\n",
    "    random_depth = float(row['depth'])+random.uniform(-5, 5)\n",
    "    random_date = randomDate(\"03/17/2015 1:30\", \"11/23/2015 4:50\", random.random())\n",
    "    random_temp = float(row['temp'])+random.uniform(-20, 20)\n",
    "    random_oxygen = float(row['oxygen'])+random.uniform(-5, 5)\n",
    "    random_salinity = float(row['Salinity'])+random.uniform(-5, 5)\n",
    "    random_chl = float(row['Chl'])+random.uniform(-5, 5)\n",
    "    bad_data.writerow({'depth':random_depth,\n",
    "                     'date':str(random_date),\n",
    "                     'temp':str(random_temp),\n",
    "                     'oxygen':str(random_oxygen),\n",
    "                     'Salinity':str(random_salinity),\n",
    "                     'Chl':str(random_chl)})"
   ]
  },
  {
   "cell_type": "code",
   "execution_count": null,
   "metadata": {},
   "outputs": [],
   "source": [
    "#Create dataframe \n",
    "\n",
    "#Divide sets between training and validation"
   ]
  },
  {
   "cell_type": "code",
   "execution_count": null,
   "metadata": {},
   "outputs": [],
   "source": [
    "#SVM:\n",
    "\n",
    "# Train model\n",
    "\n",
    "# Predict \n",
    "\n",
    "# Cross Validate\n",
    "\n",
    "# Assess prediction\n",
    "\n",
    "# Visualize Decision boundary ? "
   ]
  },
  {
   "cell_type": "code",
   "execution_count": null,
   "metadata": {},
   "outputs": [],
   "source": [
    "#RF:\n",
    "\n",
    "# Train model\n",
    "\n",
    "# Predict \n",
    "\n",
    "# Cross Validate\n",
    "\n",
    "# Assess prediction\n",
    "\n",
    "# Visualize feature importance"
   ]
  },
  {
   "cell_type": "code",
   "execution_count": null,
   "metadata": {},
   "outputs": [],
   "source": [
    "#Import Altair\n",
    "\n",
    "#Data set exploration\n",
    "\n",
    "#Variable correlation\n",
    "\n",
    "#"
   ]
  }
 ],
 "metadata": {
  "kernelspec": {
   "display_name": "Python [conda root]",
   "language": "python",
   "name": "conda-root-py"
  },
  "language_info": {
   "codemirror_mode": {
    "name": "ipython",
    "version": 3
   },
   "file_extension": ".py",
   "mimetype": "text/x-python",
   "name": "python",
   "nbconvert_exporter": "python",
   "pygments_lexer": "ipython3",
   "version": "3.6.6"
  }
 },
 "nbformat": 4,
 "nbformat_minor": 2
}
